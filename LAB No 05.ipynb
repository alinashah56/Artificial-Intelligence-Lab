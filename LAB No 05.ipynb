{
  "nbformat": 4,
  "nbformat_minor": 0,
  "metadata": {
    "colab": {
      "provenance": []
    },
    "kernelspec": {
      "name": "python3",
      "display_name": "Python 3"
    },
    "language_info": {
      "name": "python"
    }
  },
  "cells": [
    {
      "cell_type": "code",
      "execution_count": 1,
      "metadata": {
        "colab": {
          "base_uri": "https://localhost:8080/"
        },
        "id": "mzGuoHG-UzPn",
        "outputId": "bd36c7af-fb03-480e-9e70-4ee38ac5ad57"
      },
      "outputs": [
        {
          "output_type": "stream",
          "name": "stdout",
          "text": [
            "The path for this is::  0\n",
            "The path for this is::  0\n",
            "The path for this is::  1\n",
            "The path for this is::  2\n",
            "The path for this is::  0\n",
            "The path for this is::  1\n",
            "The path for this is::  3\n",
            "The path for this is::  4\n",
            "The path for this is::  2\n",
            "The path for this is::  5\n",
            "The path for this is::  6\n",
            "We found a Path!! \n"
          ]
        }
      ],
      "source": [
        "# FA20-BCS-030\n",
        "# Lab 5\n",
        "# Iterative Deepening Search\n",
        "graph = {'0':['1','2'], '1':['3','4'],'2':['5','6'],'3':[],'4':[],'5':[],'6':[]} # Initializing a graph\n",
        "#print(graph)\n",
        "def DFS(parent,destination,graph,depth):\n",
        "    print(\"The path for this is:: \",parent) # Travesing of tree\n",
        "    if parent==destination: # Checking whether it is reaching in 1st itteration to goal\n",
        "        return True\n",
        "    if depth<=0: # The limit setted was reached to its limit\n",
        "        return False\n",
        "    for childs in graph[parent]: # Traversing through childs of parents\n",
        "        if DFS(childs,destination,graph,depth-1):\n",
        "            return True\n",
        "    return False\n",
        "            # we will call the dfs function for th same functionallity\n",
        "        # but the parent will be replaced by child node as we are exploring it and depth will become -1 \n",
        "        # because we are traversing in depth.\n",
        "def IterativeDeep(parent,destination,graph,depth): # For IDS we will create this\n",
        "    for i in range(depth): # Travese depending on number of depths\n",
        "        if DFS(parent,destination,graph,i): # i will traverse from i to maxdepth i.e.0,1.2.3...n\n",
        "            return True\n",
        "    return False\n",
        "if not IterativeDeep('0','6',graph,4):\n",
        "    print(\"No path found!! \")\n",
        "else:\n",
        "    print(\"We found a Path!! \")"
      ]
    },
    {
      "cell_type": "code",
      "source": [
        "# Lab Task 1\n",
        "# minimize the distance mentioned in the map during your travel\n",
        "graph = {\n",
        "        'arad':['sibiu', 'zerind', 'timisoara'],\n",
        "        'sibiu':['oradea', 'fagaras', 'rimnicu'],\n",
        "        'zerind':['arad', 'oradea'],\n",
        "        'timisoara':['arad', 'lugoj'],\n",
        "        'oradea':['zerind', 'sibiu'],\n",
        "        'fagaras':['sibiu', 'bucharest'],\n",
        "        'lugoj':['timisoara', 'mehadia'],\n",
        "        'mehadia':['lugoj', 'drobeta'],\n",
        "        'drobeta':['mehadia', 'craiova'],\n",
        "        'craiova':['drobeta', 'riminica','pitesti'],\n",
        "        'riminica':['sibui', 'pitesti','craiova'],\n",
        "        'pitesti':['riminica', 'craiova','bucharest'],\n",
        "        'bucharest':['fagaras', 'pitesti','urziceni'],\n",
        "        'urziceni':['bucharest', 'hirsova','vaslui'],\n",
        "        'hirsova':['urziceni', 'eforie'],\n",
        "        'vaslui':['isai', 'urzicini'],\n",
        "        'eforie':['hirsova'],\n",
        "        'isai':['neamt', 'vaslui'],\n",
        "        'giurgui':['bucharest'],\n",
        "        'neamt':['isai']\n",
        "        }\n",
        "def DFS(parent,destination,graph,depth):\n",
        "    print(\"The path for this is:: \",parent) # Travesing of tree\n",
        "    if parent==destination: # Checking whether it is reaching in 1st itteration to goal\n",
        "        return True\n",
        "    if depth<=0:\n",
        "        return False\n",
        "    for childs in graph[parent]: # Traversing through childs of parents\n",
        "        if DFS(childs,destination,graph,depth-1):\n",
        "            return True\n",
        "    return False\n",
        "            # we will call the dfs function for th same functionallity\n",
        "        # but the parent will be replaced by child node as we are exploring it and depth will become -1 \n",
        "        # because we are traversing in depth.\n",
        "def IterativeDeep(parent,destination,graph,depth): # For IDS we will create this\n",
        "    for i in range(depth): # Travese depending on number of depths\n",
        "        if DFS(parent,destination,graph,i): # i will traverse from i to maxdepth i.e.0,1.2.3...n\n",
        "            return True\n",
        "    return False\n",
        "    if not IterativeDeep('arad','bucharest',graph,4):\n",
        "        print(\"No path found!! \")\n",
        "    else:\n",
        "        print(\"We found a Path!! \")\n",
        "   "
      ],
      "metadata": {
        "id": "nFoBE_w8VKch"
      },
      "execution_count": 2,
      "outputs": []
    },
    {
      "cell_type": "code",
      "source": [
        "# LAB TASK 02\n",
        "# Below lists detail all eight possible movements from a cell\n",
        "# (top, right, bottom, left, and four diagonal moves)\n",
        "row = [-1, -1, -1, 0, 1, 0, 1, 1]\n",
        "col = [-1, 1, 0, -1, -1, 1, 0, 1]\n",
        " \n",
        " \n",
        "# Function to check if it is safe to go to cell (x, y) from the current cell.\n",
        "# The function returns false if (x, y) is not valid matrix coordinates\n",
        "# or cell (x, y) is already processed.\n",
        "def isSafe(x, y, processed):\n",
        "    return (0 <= x < len(processed)) and (0 <= y < len(processed[0]))\\\n",
        "        and not processed[x][y]\n",
        " \n",
        " \n",
        "# A recursive function to generate all possible words in a boggle\n",
        "def searchBoggle(board, words, result, processed, i, j, path=''):\n",
        "    # mark the current node as processed\n",
        "    processed[i][j] = True\n",
        " \n",
        "    # update the path with the current character and insert it into the set\n",
        "    path += board[i][j]\n",
        " \n",
        "    # check whether the path is present in the input set\n",
        "    if path in words:\n",
        "        result.add(path)\n",
        " \n",
        "    # check for all eight possible movements from the current cell\n",
        "    for k in range(len(row)):\n",
        "        # skip if a cell is invalid, or it is already processed\n",
        "        if isSafe(i + row[k], j + col[k], processed):\n",
        "            searchBoggle(board, words, result, processed, i + row[k], j + col[k], path)\n",
        " \n",
        "    # backtrack: mark the current node as unprocessed\n",
        "    processed[i][j] = False\n",
        " \n",
        " \n",
        "def searchInBoggle(board, words):\n",
        " \n",
        "    # construct a set to store valid words constructed from the boggle\n",
        "    result = set()\n",
        "  # base case\n",
        "    if not board or not len(board):\n",
        "        return\n",
        " \n",
        "    # `M × N` board\n",
        "    (M, N) = (len(board), len(board[0]))\n",
        " \n",
        "    # construct a boolean matrix to store whether a cell is processed or not\n",
        "    processed = [[False for x in range(N)] for y in range(M)]\n",
        " \n",
        "    # generate all possible words in a boggle\n",
        "    for i in range(M):\n",
        "        for j in range(N):\n",
        "            # consider each character as a starting point and run DFS\n",
        "            searchBoggle(board, words, result, processed, i, j)\n",
        " \n",
        "    return result\n",
        " \n",
        " \n",
        "if __name__ == '__main__':\n",
        " \n",
        "    board = [\n",
        "        ['M', 'S', 'E'],\n",
        "        ['R', 'A', 'T'],\n",
        "        ['L', 'O', 'N']\n",
        "    ]\n",
        " \n",
        "    words = ['START', 'NOTE', 'SAND', 'STONE']\n",
        " \n",
        "    validWords = searchInBoggle(board, words)\n",
        "    print(\"The Valid Words Are:: \")\n",
        "    print(validWords)\n",
        " "
      ],
      "metadata": {
        "colab": {
          "base_uri": "https://localhost:8080/"
        },
        "id": "yk52c6KSVsQk",
        "outputId": "db917164-035f-41ae-9783-0a7501f2f91d"
      },
      "execution_count": 4,
      "outputs": [
        {
          "output_type": "stream",
          "name": "stdout",
          "text": [
            "The Valid Words Are:: \n",
            "{'NOTE'}\n"
          ]
        }
      ]
    }
  ]
}