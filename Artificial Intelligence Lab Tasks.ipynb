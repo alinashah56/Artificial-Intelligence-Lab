{
  "nbformat": 4,
  "nbformat_minor": 0,
  "metadata": {
    "colab": {
      "provenance": [],
      "collapsed_sections": []
    },
    "kernelspec": {
      "name": "python3",
      "display_name": "Python 3"
    },
    "language_info": {
      "name": "python"
    }
  },
  "cells": [
    {
      "cell_type": "code",
      "execution_count": null,
      "metadata": {
        "colab": {
          "base_uri": "https://localhost:8080/"
        },
        "id": "aESfUnXSv3Xp",
        "outputId": "c0085812-73bf-41e7-b53c-cd47c9fef46e"
      },
      "outputs": [
        {
          "output_type": "stream",
          "name": "stdout",
          "text": [
            "Enter a number3\n",
            "Given number is an odd number\n"
          ]
        }
      ],
      "source": [
        "# Lab Activity 1\n",
        "n=input(\"Enter a number\")\n",
        "if int(n)%2==0:\n",
        "     print(\"Given number is an even number\")\n",
        "else:\n",
        "     print(\"Given number is an odd number\")"
      ]
    },
    {
      "cell_type": "code",
      "source": [
        "# Lab Activity 2\n",
        "sum=0\n",
        "s=input(\"Enter an integer value\")\n",
        "n=int(s)\n",
        "while n!=0:\n",
        "    sum=sum+n\n",
        "    s=input(\"Enter an integer value\")\n",
        "    n=int(s)\n",
        "print(\"Sum of given values is \" , sum)\n",
        "\n"
      ],
      "metadata": {
        "colab": {
          "base_uri": "https://localhost:8080/"
        },
        "id": "VmPgbiLX1eoD",
        "outputId": "5037fc45-c03f-4047-8bc9-f64a50352e86"
      },
      "execution_count": null,
      "outputs": [
        {
          "output_type": "stream",
          "name": "stdout",
          "text": [
            "Enter an integer value82\n",
            "Enter an integer value78\n",
            "Enter an integer value0\n",
            "Sum of given values is  160\n"
          ]
        }
      ]
    },
    {
      "cell_type": "code",
      "source": [
        "# Lab Activity 3\n",
        "isPrime=True\n",
        "i=2\n",
        "n=int(input(\"Enter a number\"))\n",
        "while i<n:\n",
        "    remainder=n%i\n",
        "    if remainder==0:\n",
        "      isPrime=False\n",
        "      break\n",
        "    else:\n",
        "      i=i+1\n",
        "if isPrime:\n",
        "      print(\"Number is Prime\")\n",
        "else:\n",
        "      print(\"Number is not Prime\")\n",
        "\n",
        "    "
      ],
      "metadata": {
        "id": "9LTFzIT_6O87",
        "colab": {
          "base_uri": "https://localhost:8080/"
        },
        "outputId": "4f619062-5df1-4183-e488-e2bcddd5c1e6"
      },
      "execution_count": 3,
      "outputs": [
        {
          "output_type": "stream",
          "name": "stdout",
          "text": [
            "Enter a number2\n",
            "Number is Prime\n"
          ]
        }
      ]
    },
    {
      "cell_type": "code",
      "source": [
        "# Lab Activity 4\n",
        "sum=0\n",
        "i=0\n",
        "while i<=4:\n",
        "  s=int(input(\"Enter a number\"))\n",
        "  n=int(s)\n",
        "  sum=sum+n\n",
        "  i=i+1\n",
        "print(\"sum is \" , sum)\n",
        "\n"
      ],
      "metadata": {
        "colab": {
          "base_uri": "https://localhost:8080/"
        },
        "id": "jYrvUGxESfvY",
        "outputId": "b30cf0de-0a47-4d49-bb9d-9459da920f49"
      },
      "execution_count": 6,
      "outputs": [
        {
          "output_type": "stream",
          "name": "stdout",
          "text": [
            "Enter a number4\n",
            "Enter a number5\n",
            "Enter a number3\n",
            "Enter a number7\n",
            "Enter a number7\n",
            "sum is  20\n"
          ]
        }
      ]
    },
    {
      "cell_type": "code",
      "source": [
        "# Lab Activity 5\n",
        "sum=0\n",
        "i=1\n",
        "while i<=10:\n",
        "  sum=sum+i\n",
        "  i=i+1\n",
        "print(\"sum is\", sum)"
      ],
      "metadata": {
        "colab": {
          "base_uri": "https://localhost:8080/"
        },
        "id": "LUepx9fSSgdG",
        "outputId": "85d2692e-502a-45ee-bb82-f714b021dc1d"
      },
      "execution_count": 7,
      "outputs": [
        {
          "output_type": "stream",
          "name": "stdout",
          "text": [
            "sum is 55\n"
          ]
        }
      ]
    },
    {
      "cell_type": "code",
      "source": [
        "# Lab Activity 6\n",
        "name = input(\"Enter Your Name:: \")\n",
        "Registration_num = input(\"Enter Your Registration Number:: \")\n",
        "print(\"Your name is:: \" + name + \"\\n\" + \"Your Registration number is:: \" + Registration_num)"
      ],
      "metadata": {
        "colab": {
          "base_uri": "https://localhost:8080/"
        },
        "id": "RZdV4dMPVbNh",
        "outputId": "290575fd-dc5b-4678-b4b1-846a665356f0"
      },
      "execution_count": 8,
      "outputs": [
        {
          "output_type": "stream",
          "name": "stdout",
          "text": [
            "Enter Your Name:: Alina Shah\n",
            "Enter Your Registration Number:: FA20-bcs-030\n",
            "Your name is:: Alina Shah\n",
            "Your Registration number is:: FA20-bcs-030\n"
          ]
        }
      ]
    },
    {
      "cell_type": "code",
      "source": [
        "# Lab Activity 7\n",
        "import random\n",
        "import sys\n",
        "number = random.randint(1, 9)\n",
        "App_run = True\n",
        "Tries = 0\n",
        "while App_run:\n",
        "    Guessed = int(input(\"Guess the number:: \"))\n",
        "    if Guessed < number:\n",
        "        print(\"The number is too Low!! \")\n",
        "    elif Guessed > number:\n",
        "        print(\"The number is too High!! \")\n",
        "    elif Guessed == number:\n",
        "        print(\"You Got it!! Welldone \")\n",
        "    elif str(Guessed).lower() == \"exit\":\n",
        "        print(\"Thank You For Playing! \")\n",
        "        sys.exit()\n",
        "        if Tries < 2:\n",
        "            print(\"You Have \" + str(Tries) + \" Tries Left\")\n",
        "        elif Tries > 2 and Tries < 10:\n",
        "            print(\"Good\" + str(Tries) + \" Tries Left\")\n",
        "        else:\n",
        "            print(\"No Tries Left!! \" + str(Tries))\n",
        "    App_run = False\n",
        "Tries += 1\n",
        "print(\"The correct number is: \" + str(number))"
      ],
      "metadata": {
        "colab": {
          "base_uri": "https://localhost:8080/"
        },
        "id": "UOVZWEoaZ_Dt",
        "outputId": "f8a08f79-0d20-4de1-97f2-375dbd23b268"
      },
      "execution_count": 12,
      "outputs": [
        {
          "output_type": "stream",
          "name": "stdout",
          "text": [
            "Guess the number:: 9\n",
            "The number is too High!! \n",
            "The correct number is: 4\n"
          ]
        }
      ]
    },
    {
      "cell_type": "code",
      "source": [
        "#Lab Task 1\n",
        "number = int(input(\"Enter a number: \"))\n",
        "reverseNumber = 0\n",
        "while number != 0:\n",
        "  remainder = number % 10\n",
        "  reverseNumber = (reverseNumber * 10) + remainder\n",
        "  number = number // 10\n",
        "print(\"Reverse number is:\" , {reverseNumber})"
      ],
      "metadata": {
        "colab": {
          "base_uri": "https://localhost:8080/"
        },
        "id": "3aJYSU0IbJuj",
        "outputId": "5f6bfd61-8923-4492-9084-1147ab086f14"
      },
      "execution_count": 15,
      "outputs": [
        {
          "output_type": "stream",
          "name": "stdout",
          "text": [
            "Enter a number: 7678\n",
            "Reverse number is: {8767}\n"
          ]
        }
      ]
    },
    {
      "cell_type": "code",
      "source": [
        "# Lab Task 2\n",
        "sumOfEvenNumbers = 0\n",
        "sumOfOddNumbers = 0\n",
        "\n",
        "counter = 0\n",
        "while counter < 10:\n",
        "  number = int(input('Enter a number : '))\n",
        "  if number % 2 == 0:\n",
        "    sumOfEvenNumbers += number\n",
        "  else:\n",
        "    sumOfOddNumbers += number\n",
        "  counter += 1\n",
        "print(f\"Sum of Even Numbers is: {sumOfEvenNumbers}\")\n",
        "print(f\"Sum of Odd Numbers is: {sumOfOddNumbers}\")"
      ],
      "metadata": {
        "colab": {
          "base_uri": "https://localhost:8080/"
        },
        "id": "nWBrPW_HldZT",
        "outputId": "824ebc65-9404-43e9-b3ae-b4cf2daac6a4"
      },
      "execution_count": 18,
      "outputs": [
        {
          "output_type": "stream",
          "name": "stdout",
          "text": [
            "Enter a number : 1\n",
            "Enter a number : 2\n",
            "Enter a number : 3\n",
            "Enter a number : 4\n",
            "Enter a number : 5\n",
            "Enter a number : 6\n",
            "Enter a number : 7\n",
            "Enter a number : 8\n",
            "Enter a number : 9\n",
            "Enter a number : 2\n",
            "Sum of Even Numbers is: 22\n",
            "Sum of Odd Numbers is: 25\n"
          ]
        }
      ]
    },
    {
      "cell_type": "code",
      "source": [
        "# Lab Task 3\n",
        "# Fabonacci Series\n",
        "number = int(input(\"Enter a number : \"))\n",
        "fabonacci_series = \"\"\n",
        "a = 0\n",
        "b = 1\n",
        "c = 0\n",
        "for i in range (1, number + 1):\n",
        "    fabonacci_series += (f\"{c} \")\n",
        "    c = a + b\n",
        "    a = b\n",
        "    b = c\n",
        "print(fabonacci_series)"
      ],
      "metadata": {
        "colab": {
          "base_uri": "https://localhost:8080/"
        },
        "id": "1xGtR4o7lpQw",
        "outputId": "bb856d00-c283-4dbc-cbc9-321380601992"
      },
      "execution_count": 19,
      "outputs": [
        {
          "output_type": "stream",
          "name": "stdout",
          "text": [
            "Enter a number : 23\n",
            "0 1 2 3 5 8 13 21 34 55 89 144 233 377 610 987 1597 2584 4181 6765 10946 17711 28657 \n"
          ]
        }
      ]
    },
    {
      "cell_type": "code",
      "source": [
        "# lab task 4\n",
        "# Grading System\n",
        "marks = int(input(\"Enter Your Marks: \"))\n",
        "\n",
        "if marks >= 90:\n",
        "  print(\"A grade\")\n",
        "elif marks >= 80 and marks <= 89:\n",
        "  print(\"B grade\")\n",
        "elif marks >= 70 and marks <= 79:\n",
        "  print(\"C grade\")\n",
        "elif marks >=60 and marks <= 69:\n",
        "  print(\"D grade\")\n",
        "elif marks >= 50 and marks <=60:\n",
        "  print(\"E grade\")\n",
        "else:\n",
        "  print(\"F grade\")"
      ],
      "metadata": {
        "colab": {
          "base_uri": "https://localhost:8080/"
        },
        "id": "6SuKmsVMl-Qh",
        "outputId": "c4401c24-8209-4276-f9cf-f06426cf6a56"
      },
      "execution_count": 22,
      "outputs": [
        {
          "output_type": "stream",
          "name": "stdout",
          "text": [
            "Enter Your Marks: 90\n",
            "A grade\n"
          ]
        }
      ]
    },
    {
      "cell_type": "code",
      "source": [
        "# Lab task 5\n",
        "# Factorial of a number\n",
        "\n",
        "number = int(input(\"Enter a number: \"))\n",
        "factorial = 1\n",
        "\n",
        "for i in range(1, number+1):\n",
        "  factorial *= i\n",
        "print(f'Factorial of {number} is {factorial}')"
      ],
      "metadata": {
        "colab": {
          "base_uri": "https://localhost:8080/"
        },
        "id": "lXCa3KkZmo_a",
        "outputId": "3c429fe2-de84-49ab-f119-1eac0cf476e8"
      },
      "execution_count": 23,
      "outputs": [
        {
          "output_type": "stream",
          "name": "stdout",
          "text": [
            "Enter a number: 5\n",
            "Factorial of 5 is 120\n"
          ]
        }
      ]
    }
  ]
}